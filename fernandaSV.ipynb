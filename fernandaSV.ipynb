{
  "nbformat": 4,
  "nbformat_minor": 0,
  "metadata": {
    "colab": {
      "provenance": [],
      "authorship_tag": "ABX9TyNkpgSKpjREYJt0QxBIF6Sa",
      "include_colab_link": true
    },
    "kernelspec": {
      "name": "python3",
      "display_name": "Python 3"
    },
    "language_info": {
      "name": "python"
    }
  },
  "cells": [
    {
      "cell_type": "markdown",
      "metadata": {
        "id": "view-in-github",
        "colab_type": "text"
      },
      "source": [
        "<a href=\"https://colab.research.google.com/github/fernandaS28/Repaso-de-Python/blob/main/fernandaSV.ipynb\" target=\"_parent\"><img src=\"https://colab.research.google.com/assets/colab-badge.svg\" alt=\"Open In Colab\"/></a>"
      ]
    },
    {
      "cell_type": "code",
      "execution_count": null,
      "metadata": {
        "id": "US9WVE4K-5eI"
      },
      "outputs": [],
      "source": []
    },
    {
      "cell_type": "markdown",
      "source": [
        "realizar un programa que permita capturar y lo imprima seguido de una bienvenida"
      ],
      "metadata": {
        "id": "0sbzXVCW_OvH"
      }
    },
    {
      "cell_type": "code",
      "source": [
        "print(\"hola, mundo\")"
      ],
      "metadata": {
        "colab": {
          "base_uri": "https://localhost:8080/"
        },
        "id": "2lmISdat_gW2",
        "outputId": "3a38eb69-b851-4f45-e4a9-c9381fca1c2b"
      },
      "execution_count": 3,
      "outputs": [
        {
          "output_type": "stream",
          "name": "stdout",
          "text": [
            "hola, mundo\n"
          ]
        }
      ]
    },
    {
      "cell_type": "code",
      "source": [],
      "metadata": {
        "id": "ngmLFEQx_ct2"
      },
      "execution_count": null,
      "outputs": []
    },
    {
      "cell_type": "code",
      "source": [
        "nombre=input(\"escribe tu nombre: \")\n",
        "print (\"bienvenid@, \"+nombre)"
      ],
      "metadata": {
        "colab": {
          "base_uri": "https://localhost:8080/"
        },
        "id": "N9f42DIiBb0r",
        "outputId": "24c83049-1c4e-4c7f-a820-3421e0d2ba48"
      },
      "execution_count": 4,
      "outputs": [
        {
          "output_type": "stream",
          "name": "stdout",
          "text": [
            "escribe tu nombre: fernanda\n",
            "bienvenido, fernanda\n"
          ]
        }
      ]
    },
    {
      "cell_type": "code",
      "source": [],
      "metadata": {
        "id": "FYpZEcu6BbZT"
      },
      "execution_count": null,
      "outputs": []
    },
    {
      "cell_type": "markdown",
      "source": [
        "realizar un programa que permita capturar 2 numeros enteros e imprima la suma, la resta, la multiplicacion y la diision entre ellos"
      ],
      "metadata": {
        "id": "TrDCKpLJCqIS"
      }
    },
    {
      "cell_type": "code",
      "source": [
        "num1=int(input(\"captura un numero\"))\n",
        "num2=int(input(\"captura un numero\"))\n",
        "s=num1+num2\n",
        "print(\"la suma es\", s)\n",
        "r=num1+num2\n",
        "print(\"la resta es\", r)\n",
        "m=num1*num2\n",
        "print(\"la multiplicacion es\", m)\n",
        "d=num1/num2\n",
        "print(\"la division es\", d)\n"
      ],
      "metadata": {
        "colab": {
          "base_uri": "https://localhost:8080/"
        },
        "id": "MBvfFgBdC7BJ",
        "outputId": "8f16c5a6-a9dd-45b9-8b37-38811776ce7d"
      },
      "execution_count": 9,
      "outputs": [
        {
          "output_type": "stream",
          "name": "stdout",
          "text": [
            "captura un numero2\n",
            "captura un numero2\n",
            "la suma es 4\n",
            "la resta es 4\n",
            "la multiplicacion es 4\n",
            "la division es 1.0\n"
          ]
        }
      ]
    }
  ]
}